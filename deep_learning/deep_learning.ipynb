{
 "cells": [
  {
   "cell_type": "markdown",
   "metadata": {},
   "source": [
    "## INTRODUCTION\n",
    "\n",
    "\n",
    "<font color=\"red\">Content:</font>\n",
    "\n",
    "- [Introduction](#1)\n",
    "- [Overview the Data Set](#2)\n",
    "- [Logistic Regression](#3)\n",
    "\n",
    "    - [Computation Graph](#4)\n",
    "    - [Initializing parameters](#5)\n",
    "    - [Forward Propagation](#6)\n",
    "        - Sigmoid Function\n",
    "        - Loss(error) Function\n",
    "        - Cost Function\n",
    "    - [Optimization Algorithm with Gradient Descent](#10)\n",
    "        - Backward Propagation\n",
    "        - Updating parameters\n",
    "    - [Logistic Regression with Sklearn](#13)\n",
    "    - [Summary and Questions in Minds](#14)\n",
    "- [Artificial Neural Network](#15)\n",
    "\n",
    "    - [2-Layer Neural Network](#16)\n",
    "        - [Size of layers and initializing parameters weights and bias](#17)\n",
    "        - [Forward propagation](#18)\n",
    "        - [Loss function and Cost function](#19)\n",
    "        - [Backward propagation](#20)\n",
    "        - [Update Parameters](#21)\n",
    "        - [Prediction with learnt parameters weight and bias](#22)\n",
    "        - [Create Model](#23)\n",
    "    - [Layer Neural Network](#24)\n",
    "        - [Implementing with keras library](#24)\n",
    "- Time Series Prediction: https://github.com/ankur715/data_science/tree/master/time_series_ww2\n",
    "- [Artificial Neural Network with Pytorch Library](#25)\n",
    "- [Convolutional Neural Network with Pytorch Library](#26)\n",
    "- [Recurrent Neural Network with Pytorch Library](#27)"
   ]
  },
  {
   "cell_type": "markdown",
   "metadata": {},
   "source": [
    "- __Deep learning__: One of the machine learning technique that learns features directly from data.\n",
    "- __Why deep learning__: When the amounth of data is increased, machine learning techniques are insufficient in terms of performance and deep learning gives better performance like accuracy.\n",
    "<p align=\"left\">\n",
    "    <img width=\"500\" height=\"300\" src=\"https://i.ibb.co/FbyBHsK/1.png\">\n",
    "</p>\n",
    "- __What is amounth of big__: It is hard to answer but intuitively 1 million sample is enough to say \"big amounth of data\"\n",
    "- __Usage fields of deep learning__: Speech recognition, image classification, natural language procession (nlp) or recommendation systems\n",
    "- __What is difference of deep learning from machine learning__:\n",
    "    - Machine learning covers deep learning.\n",
    "    - Features are given machine learning manually.\n",
    "    - On the other hand, deep learning learns features directly from data\n",
    "    <p align=\"left\">\n",
    "        <img width=\"500\" height=\"200\" src=\"https://i.ibb.co/R6TVyyQ/2.png\">\n",
    "             </p>"
   ]
  },
  {
   "cell_type": "code",
   "execution_count": 2,
   "metadata": {},
   "outputs": [
    {
     "data": {
      "text/plain": [
       "['.ipynb_checkpoints', 'deep_learning.ipynb', 'X.npy', 'Y.npy']"
      ]
     },
     "execution_count": 2,
     "metadata": {},
     "output_type": "execute_result"
    }
   ],
   "source": [
    "# This Python 3 environment comes with many helpful analytics libraries installed\n",
    "# It is defined by the kaggle/python docker image: https://github.com/kaggle/docker-python\n",
    "# For example, here's several helpful packages to load in \n",
    "\n",
    "import numpy as np # linear algebra\n",
    "import pandas as pd # data processing, CSV file I/O (e.g. pd.read_csv)\n",
    "import matplotlib.pyplot as plt\n",
    "# Input data files are available in the \"../input/\" directory.\n",
    "# For example, running this (by clicking run or pressing Shift+Enter) will list the files in the input directory\n",
    "# import warnings\n",
    "import warnings\n",
    "# filter warnings\n",
    "warnings.filterwarnings('ignore')\n",
    "\n",
    "import os\n",
    "os.listdir()"
   ]
  },
  {
   "cell_type": "markdown",
   "metadata": {},
   "source": [
    "## <a name=\"1\"></a>Overview the Data Set\n"
   ]
  },
  {
   "cell_type": "markdown",
   "metadata": {},
   "source": [
    "- We will use \"sign language digits data set\" for this tutorial.\n",
    "- In this data there are 2062 sign language digits images.\n",
    "- As you know digits are from 0 to 9. Therefore there are 10 unique sign.\n",
    "- At the beginning of tutorial we will use only sign 0 and 1 for simplicity.\n",
    "- In data, sign zero is between indexes 204 and 408. Number of zero sign is 205.\n",
    "- Also sign one is between indexes 822 and 1027. Number of one sign is 206. Therefore, we will use 205 samples from each classes(labels).\n",
    "- Note: Actually 205 sample is very very very little for deep learning. But this is tutorial so it does not matter so much.\n",
    "- Lets prepare our X and Y arrays. X is image array (zero and one signs) and Y is label array (0 and 1)."
   ]
  },
  {
   "cell_type": "code",
   "execution_count": 4,
   "metadata": {},
   "outputs": [
    {
     "data": {
      "text/plain": [
       "(-0.5, 63.5, 63.5, -0.5)"
      ]
     },
     "execution_count": 4,
     "metadata": {},
     "output_type": "execute_result"
    },
    {
     "data": {
      "image/png": "[encoded data removed]",
      "text/plain": [
       "<Figure size 432x288 with 2 Axes>"
      ]
     },
     "metadata": {
      "needs_background": "light"
     },
     "output_type": "display_data"
    }
   ],
   "source": [
    "# load data set\n",
    "x_l = np.load('X.npy')\n",
    "Y_l = np.load('Y.npy')\n",
    "img_size = 64\n",
    "plt.subplot(1, 2, 1)\n",
    "plt.imshow(x_l[260].reshape(img_size, img_size))\n",
    "plt.axis('off')\n",
    "plt.subplot(1, 2, 2)\n",
    "plt.imshow(x_l[900].reshape(img_size, img_size))\n",
    "plt.axis('off')"
   ]
  },
  {
   "cell_type": "code",
   "execution_count": 6,
   "metadata": {},
   "outputs": [
    {
     "name": "stdout",
     "output_type": "stream",
     "text": [
      "2062\n",
      "2062\n"
     ]
    }
   ],
   "source": [
    "print(len(x_l))\n",
    "print(len(Y_l))"
   ]
  },
  {
   "cell_type": "markdown",
   "metadata": {},
   "source": [
    "- In order to create image array, I concatenate zero sign and one sign arrays\n",
    "- Then I create label array 0 for zero sign images and 1 for one sign images."
   ]
  },
  {
   "cell_type": "code",
   "execution_count": 7,
   "metadata": {},
   "outputs": [
    {
     "name": "stdout",
     "output_type": "stream",
     "text": [
      "X shape:  (410, 64, 64)\n",
      "Y shape:  (410, 1)\n"
     ]
    }
   ],
   "source": [
    "# Join a sequence of arrays along an row axis.\n",
    "X = np.concatenate((x_l[204:409], x_l[822:1027] ), axis=0) # from 0 to 204 is zero sign and from 205 to 410 is one sign \n",
    "z = np.zeros(205)\n",
    "o = np.ones(205)\n",
    "Y = np.concatenate((z, o), axis=0).reshape(X.shape[0],1)\n",
    "print(\"X shape: \" , X.shape)\n",
    "print(\"Y shape: \" , Y.shape)"
   ]
  },
  {
   "cell_type": "markdown",
   "metadata": {},
   "source": [
    "- The shape of the X is (410, 64, 64)\n",
    "    - 410 means that we have 410 images (zero and one signs)\n",
    "    - 64 means that our image size is 64x64 (64x64 pixels)\n",
    "- The shape of the Y is (410,1)\n",
    "    - 410 means that we have 410 labels (0 and 1)\n",
    "- Lets split X and Y into train and test sets.\n",
    "    - test_size = percentage of test size. test = 15% and train = 75%\n",
    "    - random_state = use same seed while randomizing. It means that if we call train_test_split repeatedly, it always creates same train and test distribution because we have same random_state."
   ]
  },
  {
   "cell_type": "code",
   "execution_count": 8,
   "metadata": {},
   "outputs": [],
   "source": [
    "# Then lets create x_train, y_train, x_test, y_test arrays\n",
    "from sklearn.model_selection import train_test_split\n",
    "X_train, X_test, Y_train, Y_test = train_test_split(X, Y, test_size=0.15, random_state=42)\n",
    "number_of_train = X_train.shape[0]\n",
    "number_of_test = X_test.shape[0]"
   ]
  },
  {
   "cell_type": "markdown",
   "metadata": {},
   "source": [
    "- Now we have 3 dimensional input array (X) so we need to make it flatten (2D) in order to use as input for our first deep learning model.\n",
    "- Our label array (Y) is already flatten(2D) so we leave it like that.\n",
    "- Lets flatten X array(images array)."
   ]
  },
  {
   "cell_type": "code",
   "execution_count": 9,
   "metadata": {},
   "outputs": [
    {
     "name": "stdout",
     "output_type": "stream",
     "text": [
      "X train flatten (348, 4096)\n",
      "X test flatten (62, 4096)\n"
     ]
    }
   ],
   "source": [
    "X_train_flatten = X_train.reshape(number_of_train,X_train.shape[1]*X_train.shape[2])\n",
    "X_test_flatten = X_test .reshape(number_of_test,X_test.shape[1]*X_test.shape[2])\n",
    "print(\"X train flatten\",X_train_flatten.shape)\n",
    "print(\"X test flatten\",X_test_flatten.shape)"
   ]
  },
  {
   "cell_type": "markdown",
   "metadata": {},
   "source": [
    "- As you can see, we have 348 images and each image has 4096 pixels in image train array.\n",
    "- Also, we have 62 images and each image has 4096 pixels in image test array.\n",
    "- Then lets take transpose. You can say that WHYY, actually there is no technical answer. I just write the code(code that you will see oncoming parts) according to it :)"
   ]
  },
  {
   "cell_type": "code",
   "execution_count": 11,
   "metadata": {},
   "outputs": [
    {
     "name": "stdout",
     "output_type": "stream",
     "text": [
      "x train:  (4096, 348)\n",
      "x test:  (4096, 62)\n",
      "y train:  (1, 348)\n",
      "y test:  (1, 62)\n"
     ]
    }
   ],
   "source": [
    "x_train = X_train_flatten.T\n",
    "x_test = X_test_flatten.T\n",
    "y_train = Y_train.T\n",
    "y_test = Y_test.T\n",
    "print(\"x train: \",x_train.shape)\n",
    "print(\"x test: \",x_test.shape)\n",
    "print(\"y train: \",y_train.shape)\n",
    "print(\"y test: \",y_test.shape)"
   ]
  },
  {
   "cell_type": "markdown",
   "metadata": {},
   "source": [
    "- Choose our labels (classes) that are sign zero and sign one\n",
    "- Create and flatten train and test sets\n",
    "- Our final inputs(images) and outputs(labels or classes) looks like this:\n",
    "\n",
    "<p align=\"left\">\n",
    "    <img width=\"400\" height=\"400\" src=\"https://i.ibb.co/cFR7NP2/3.png\">\n",
    "</p>"
   ]
  },
  {
   "cell_type": "markdown",
   "metadata": {},
   "source": [
    "\n",
    "## <a name=\"2\"></a>Logistic Regression\n",
    "\n"
   ]
  },
  {
   "cell_type": "markdown",
   "metadata": {},
   "source": [
    "- When we talk about binary classification( 0 and 1 outputs) what comes to mind first is logistic regression.\n",
    "- However, in deep learning tutorial what to do with logistic regression there??\n",
    "- The answer is that logistic regression is actually a very simple neural network.\n",
    "- By the way neural network and deep learning are same thing. When we will come artificial neural network, I will explain detailed the terms like \"deep\".\n",
    "- In order to understand logistic regression (simple deep learning) lets first learn computation graph."
   ]
  },
  {
   "cell_type": "markdown",
   "metadata": {},
   "source": [
    "### <a name=\"3\"></a>Computation Graph\n"
   ]
  },
  {
   "cell_type": "markdown",
   "metadata": {},
   "source": [
    "- Computation graphs are a nice way to think about mathematical expressions.\n",
    "- It is like visualization of mathematical expressions.\n",
    "- For example we have\n",
    "    c = √ (a^2 + b^2)\n",
    " \n",
    "- It's computational graph is this. As you can see we express math with graph.\n",
    "\n",
    "<p align=\"left\">\n",
    "    <img width=\"500\" height=\"250\" src=\"https://image.ibb.co/hWn6Lx/d.jpg\">\n",
    "</p>\n",
    "\n",
    "- Now lets look at computation graph of logistic regression5\n",
    "<p align=\"left\">\n",
    "    <img width=\"600\" height=\"300\" src=\"https://preview.ibb.co/cxP63H/5.jpg\">\n",
    "</p>\n",
    "\n",
    "    - Parameters are weight and bias.\n",
    "    - Weights: coefficients of each pixels\n",
    "    - Bias: intercept\n",
    "    - z = (w.t)x + b => z equals to (transpose of weights times input x) + bias\n",
    "    - In an other saying => z = b + px1w1 + px2w2 + ... + px4096*w4096\n",
    "    - y_head = sigmoid(z)\n",
    "    - Sigmoid function makes z between zero and one so that is probability. You can see sigmoid function in computation graph.\n",
    "- Why we use sigmoid function?\n",
    "    - It gives probabilistic result\n",
    "    - It is derivative so we can use it in gradient descent algorithm (we will see as soon.)\n",
    "- Lets make example:\n",
    "    - Lets say we find z = 4 and put z into sigmoid function. The result(y_head) is almost 0.9. It means that our classification result is 1 with 90% probability.\n",
    "- Now lets start with from beginning and examine each component of computation graph more detailed."
   ]
  },
  {
   "cell_type": "markdown",
   "metadata": {},
   "source": [
    "### <a name=\"3\"></a>Initializing parameters\n"
   ]
  },
  {
   "cell_type": "markdown",
   "metadata": {},
   "source": [
    "- As you know input is our images that has 4096 pixels(each image in x_train).\n",
    "- Each pixels have own weights.\n",
    "- The first step is multiplying each pixels with their own weights.\n",
    "- The question is that what is the initial value of weights?\n",
    "    - There are some techniques that I will explain at artificial neural network but for this time initial weights are 0.01.\n",
    "    - Okey, weights are 0.01 but what is the weight array shape? As you understand from computation graph of logistic regression, it is (4096,1)\n",
    "    - Also initial bias is 0.\n",
    "- Lets write some code. In order to use at coming topics like artificial neural network (ANN), I make definition(method)."
   ]
  },
  {
   "cell_type": "code",
   "execution_count": 12,
   "metadata": {},
   "outputs": [],
   "source": [
    "# short description and example of definition (def)\n",
    "def dummy(parameter):\n",
    "    dummy_parameter = parameter + 5\n",
    "    return dummy_parameter\n",
    "result = dummy(3)     # result = 8\n",
    "\n",
    "# lets initialize parameters\n",
    "# So what we need is dimension 4096 that is number of pixels as a parameter for our initialize method(def)\n",
    "def initialize_weights_and_bias(dimension):\n",
    "    w = np.full((dimension,1),0.01)\n",
    "    b = 0.0\n",
    "    return w, b"
   ]
  },
  {
   "cell_type": "code",
   "execution_count": 13,
   "metadata": {},
   "outputs": [],
   "source": [
    "#w,b = initialize_weights_and_bias(4096)\n"
   ]
  },
  {
   "cell_type": "code",
   "execution_count": 14,
   "metadata": {},
   "outputs": [],
   "source": [
    "w,b = initialize_weights_and_bias(4096)\n"
   ]
  },
  {
   "cell_type": "code",
   "execution_count": 15,
   "metadata": {},
   "outputs": [
    {
     "data": {
      "text/plain": [
       "array([[0.01],\n",
       "       [0.01],\n",
       "       [0.01],\n",
       "       ...,\n",
       "       [0.01],\n",
       "       [0.01],\n",
       "       [0.01]])"
      ]
     },
     "execution_count": 15,
     "metadata": {},
     "output_type": "execute_result"
    }
   ],
   "source": [
    "w"
   ]
  },
  {
   "cell_type": "code",
   "execution_count": 16,
   "metadata": {},
   "outputs": [
    {
     "data": {
      "text/plain": [
       "0.0"
      ]
     },
     "execution_count": 16,
     "metadata": {},
     "output_type": "execute_result"
    }
   ],
   "source": [
    "b"
   ]
  },
  {
   "cell_type": "markdown",
   "metadata": {},
   "source": [
    "### <a name=\"3\"></a>Forward Propagation\n"
   ]
  },
  {
   "cell_type": "markdown",
   "metadata": {},
   "source": [
    "- The all steps from pixels to cost is called forward propagation\n",
    "    - z = (w.T)x + b => in this equation we know x that is pixel array, we know w (weights) and b (bias) so the rest is calculation. (T is transpose)\n",
    "    - Then we put z into sigmoid function that returns y_head(probability). When your mind is confused go and look at computation graph. Also equation of sigmoid function is in computation graph.\n",
    "    - Then we calculate loss(error) function.\n",
    "    - Cost function is summation of all loss(error).\n",
    "    - Lets start with z and the write sigmoid definition(method) that takes z as input parameter and returns y_head(probability)"
   ]
  },
  {
   "cell_type": "code",
   "execution_count": 17,
   "metadata": {},
   "outputs": [],
   "source": [
    "# calculation of z\n",
    "#z = np.dot(w.T,x_train)+b\n",
    "def sigmoid(z):\n",
    "    y_head = 1/(1+np.exp(-z))\n",
    "    return y_head"
   ]
  },
  {
   "cell_type": "code",
   "execution_count": 18,
   "metadata": {},
   "outputs": [
    {
     "data": {
      "text/plain": [
       "0.5"
      ]
     },
     "execution_count": 18,
     "metadata": {},
     "output_type": "execute_result"
    }
   ],
   "source": [
    "y_head = sigmoid(0)\n",
    "y_head"
   ]
  },
  {
   "cell_type": "markdown",
   "metadata": {},
   "source": [
    "- As we write sigmoid method and calculate y_head. Lets learn what is loss(error) function\n",
    "- Lets make example, I put one image as input then multiply it with their weights and add bias term so I find z. Then put z into sigmoid method so I find y_head. Up to this point we know what we did. Then e.g y_head became 0.9 that is bigger than 0.5 so our prediction is image is sign one image. Okey every thing looks like fine. But, is our prediction is correct and how do we check whether it is correct or not? The answer is with loss(error) function:\n",
    "    - Mathematical expression of log loss(error) function is that: <p align=\"left\"> <img width=\"200\" height=\"30\" src=\"https://image.ibb.co/eC0JCK/duzeltme.jpg\"> </p>\n",
    "    - It says that if you make wrong prediction, loss(error) becomes big. __DENKLEM DUZELTME__\n",
    "        - Example: our real image is sign one and its label is 1 (y = 1), then we make prediction y_head = 1. When we put y and y_head into loss(error) equation the result is 0. We make correct prediction therefore our loss is 0. However, if we make wrong prediction like y_head = 0, loss(error) is infinity.\n",
    "- After that, the cost function is summation of loss function. Each image creates loss function. Cost function is summation of loss functions that is created by each input image.\n",
    "- Lets implement forward propagation."
   ]
  },
  {
   "cell_type": "code",
   "execution_count": 19,
   "metadata": {},
   "outputs": [],
   "source": [
    "# Forward propagation steps:\n",
    "# find z = w.T*x+b\n",
    "# y_head = sigmoid(z)\n",
    "# loss(error) = loss(y,y_head)\n",
    "# cost = sum(loss)\n",
    "def forward_propagation(w,b,x_train,y_train):\n",
    "    z = np.dot(w.T,x_train) + b\n",
    "    y_head = sigmoid(z) # probabilistic 0-1\n",
    "    loss = -y_train*np.log(y_head)-(1-y_train)*np.log(1-y_head)\n",
    "    cost = (np.sum(loss))/x_train.shape[1]      # x_train.shape[1]  is for scaling\n",
    "    return cost"
   ]
  },
  {
   "cell_type": "markdown",
   "metadata": {},
   "source": [
    "### <a name=\"3\"></a>Optimization Algorithm with Gradient Descent\n"
   ]
  },
  {
   "cell_type": "markdown",
   "metadata": {},
   "source": [
    "- Well, now we know what is our cost that is error.\n",
    "- Therefore, we need to decrease cost because as we know if cost is high it means that we make wrong prediction.\n",
    "- Lets think first step, every thing starts with initializing weights and bias. Therefore cost is dependent with them.\n",
    "- In order to decrease cost, we need to update weights and bias.\n",
    "- In other words, our model needs to learn the parameters weights and bias that minimize cost function. This technique is called gradient descent.\n",
    "- Lets make an example:\n",
    "\n",
    "    - We have w = 5 and bias = 0 (so ignore bias for now). Then we make forward propagation and our cost function is 1.5.\n",
    "    - It looks like this. <p> <img width=\"400\" height=\"350\" src=\"https://image.ibb.co/dAaYJH/7.jpg\"> </p>\n",
    "    - As you can see from graph, we are not at minimum point of cost function. Therefore we need to go through minimum cost. Okey, lets update weight. ( the symbol := is updating)\n",
    "    - w := w - step. The question is what is this step? Step is slope1. Okey, it looks remarkable. In order to find minimum point, we can use slope1. Then lets say slope1 = 3 and update our weight. w := w - slope1 => w = 2.\n",
    "    - Now, our weight w is 2. As you remember, we need to find cost function with forward propagation again.\n",
    "    - Lets say according to forward propagation with w = 2, cost function is 0.4. Hmm, we are at right way because our cost function is decrease. We have new value for cost function that is cost = 0.4. Is that enough? Actually I do not know lets try one more step.\n",
    "    - Slope2 = 0.7 and w = 2. Lets update weight w : = w - step(slope2) => w = 1.3 that is new weight. So lets find new cost.\n",
    "    - Make one more forward propagation with w = 1.3 and our cost = 0.3. Okey, our cost even decreased, it looks like fine but is it enough or do we need to make one more step? The answer is again I do not know, lets try.\n",
    "    - Slope3 = 0.01 and w = 1.3. Updating weight w := w - step(slope3) => w = 1.29 ~ 1.3. So weight does not change because we find minimum point of cost function.\n",
    "    - Everything looks like good but how we find slope? If you remember from high school or university, in order to find slope of function(cost function) at given point(at given weight) we take derivative of function at given point. Also you can ask that okey well we find slope but how it knows where it go. You can say that it can go more higher cost values instead of going minimum point. The asnwer is that slope(derivative) gives both step and direction of step. Therefore do not worry :)\n",
    "    - Update equation is this. It says that there is a cost function(takes weight and bias). Take derivative of cost function according to weight and bias. Then multiply it with α learning rate. Then update weight. (In order to explain I ignore bias but these all steps will be applied for bias)8\n",
    "    - Now, I am sure you are asking what is learning rate that I mentioned never. It is very simple term that determines learning rate. Hovewer there is tradeoff between learning fast and never learning. For example you are at Paris(current cost) and want to go Madrid(minimum cost). If your speed(learning rate) is small, you can go Madrid very slowly and it takes too long time. On ther other hand, if your speed(learning rate) is big, you can go very fast but maybe you make crash and never go to Madrid. Therefore, we need to choose wisely our speed(learning rate).\n",
    "    - Learning rate is also called hyperparameter that need to be chosen and tuned. I will explain it more detailed in artificial neural network with other hyperparameters. For now just say learning rate is 1 for our previous example.\n",
    "- I think now you understand the logic behind forward propagation(from weights and bias to cost) and backward propagation(from cost to weights and bias to update them). Also you learn gradient descent. Before implementing the code you need to learn one more thing that is how we take derivative of cost function according to weights and bias. It is not related with python or coding. It is pure mathematic. There are two option first one is to google how to take derivative of log loss function and second one is even to google what is derivative of log loss function :) I choose second one because I cannot explain math without talking :)"
   ]
  },
  {
   "cell_type": "code",
   "execution_count": 20,
   "metadata": {},
   "outputs": [],
   "source": [
    "# In backward propagation we will use y_head that found in forward progation\n",
    "# Therefore instead of writing backward propagation method, lets combine forward propagation and backward propagation\n",
    "def forward_backward_propagation(w,b,x_train,y_train):\n",
    "    # forward propagation\n",
    "    z = np.dot(w.T,x_train) + b\n",
    "    y_head = sigmoid(z)\n",
    "    loss = -y_train*np.log(y_head)-(1-y_train)*np.log(1-y_head)\n",
    "    cost = (np.sum(loss))/x_train.shape[1]      # x_train.shape[1]  is for scaling\n",
    "    # backward propagation\n",
    "    derivative_weight = (np.dot(x_train,((y_head-y_train).T)))/x_train.shape[1] # x_train.shape[1]  is for scaling\n",
    "    derivative_bias = np.sum(y_head-y_train)/x_train.shape[1]                 # x_train.shape[1]  is for scaling\n",
    "    gradients = {\"derivative_weight\": derivative_weight,\"derivative_bias\": derivative_bias}\n",
    "    return cost,gradients"
   ]
  },
  {
   "cell_type": "markdown",
   "metadata": {},
   "source": [
    "- Up to this point we learn\n",
    "    - Initializing parameters (implemented)\n",
    "    - Finding cost with forward propagation and cost function (implemented)\n",
    "    - Updating(learning) parameters (weight and bias). Now lets implement it."
   ]
  },
  {
   "cell_type": "code",
   "execution_count": 21,
   "metadata": {},
   "outputs": [],
   "source": [
    "# Updating(learning) parameters\n",
    "def update(w, b, x_train, y_train, learning_rate,number_of_iterarion):\n",
    "    cost_list = []\n",
    "    cost_list2 = []\n",
    "    index = []\n",
    "    # updating(learning) parameters is number_of_iterarion times\n",
    "    for i in range(number_of_iterarion):\n",
    "        # make forward and backward propagation and find cost and gradients\n",
    "        cost,gradients = forward_backward_propagation(w,b,x_train,y_train)\n",
    "        cost_list.append(cost)\n",
    "        # lets update\n",
    "        w = w - learning_rate * gradients[\"derivative_weight\"]\n",
    "        b = b - learning_rate * gradients[\"derivative_bias\"]\n",
    "        if i % 10 == 0:\n",
    "            cost_list2.append(cost)\n",
    "            index.append(i)\n",
    "            print (\"Cost after iteration %i: %f\" %(i, cost))\n",
    "    # we update(learn) parameters weights and bias\n",
    "    parameters = {\"weight\": w,\"bias\": b}\n",
    "    plt.plot(index,cost_list2)\n",
    "    plt.xticks(index,rotation='vertical')\n",
    "    plt.xlabel(\"Number of Iterarion\")\n",
    "    plt.ylabel(\"Cost\")\n",
    "    plt.show()\n",
    "    return parameters, gradients, cost_list\n",
    "#parameters, gradients, cost_list = update(w, b, x_train, y_train, learning_rate = 0.009,number_of_iterarion = 200)"
   ]
  },
  {
   "cell_type": "markdown",
   "metadata": {},
   "source": [
    "- Woow, I get tired :) Up to this point we learn our parameters. It means we fit the data.\n",
    "- In order to predict we have parameters. Therefore, lets predict.\n",
    "- In prediction step we have x_test as a input and while using it, we make forward prediction."
   ]
  },
  {
   "cell_type": "code",
   "execution_count": 22,
   "metadata": {},
   "outputs": [],
   "source": [
    " # prediction\n",
    "def predict(w,b,x_test):\n",
    "    # x_test is a input for forward propagation\n",
    "    z = sigmoid(np.dot(w.T,x_test)+b)\n",
    "    Y_prediction = np.zeros((1,x_test.shape[1]))\n",
    "    # if z is bigger than 0.5, our prediction is sign one (y_head=1),\n",
    "    # if z is smaller than 0.5, our prediction is sign zero (y_head=0),\n",
    "    for i in range(z.shape[1]):\n",
    "        if z[0,i]<= 0.5:\n",
    "            Y_prediction[0,i] = 0\n",
    "        else:\n",
    "            Y_prediction[0,i] = 1\n",
    "\n",
    "    return Y_prediction\n",
    "# predict(parameters[\"weight\"],parameters[\"bias\"],x_test)"
   ]
  },
  {
   "cell_type": "code",
   "execution_count": 23,
   "metadata": {},
   "outputs": [
    {
     "name": "stdout",
     "output_type": "stream",
     "text": [
      "Cost after iteration 0: 14.014222\n",
      "Cost after iteration 10: 2.544689\n",
      "Cost after iteration 20: 2.577950\n",
      "Cost after iteration 30: 2.397999\n",
      "Cost after iteration 40: 2.185019\n",
      "Cost after iteration 50: 1.968348\n",
      "Cost after iteration 60: 1.754195\n",
      "Cost after iteration 70: 1.535079\n",
      "Cost after iteration 80: 1.297567\n",
      "Cost after iteration 90: 1.031919\n",
      "Cost after iteration 100: 0.737019\n",
      "Cost after iteration 110: 0.441355\n",
      "Cost after iteration 120: 0.252278\n",
      "Cost after iteration 130: 0.205168\n",
      "Cost after iteration 140: 0.196168\n"
     ]
    },
    {
     "data": {
      "image/png": "[encoded data removed]",
      "text/plain": [
       "<Figure size 432x288 with 1 Axes>"
      ]
     },
     "metadata": {
      "needs_background": "light"
     },
     "output_type": "display_data"
    },
    {
     "name": "stdout",
     "output_type": "stream",
     "text": [
      "train accuracy: 92.816091954023 %\n",
      "test accuracy: 93.54838709677419 %\n"
     ]
    }
   ],
   "source": [
    "def logistic_regression(x_train, y_train, x_test, y_test, learning_rate ,  num_iterations):\n",
    "    # initialize\n",
    "    dimension =  x_train.shape[0]  # that is 4096\n",
    "    w,b = initialize_weights_and_bias(dimension)\n",
    "    # do not change learning rate\n",
    "    parameters, gradients, cost_list = update(w, b, x_train, y_train, learning_rate,num_iterations)\n",
    "    \n",
    "    y_prediction_test = predict(parameters[\"weight\"],parameters[\"bias\"],x_test)\n",
    "    y_prediction_train = predict(parameters[\"weight\"],parameters[\"bias\"],x_train)\n",
    "\n",
    "    # Print train/test Errors\n",
    "    print(\"train accuracy: {} %\".format(100 - np.mean(np.abs(y_prediction_train - y_train)) * 100))\n",
    "    print(\"test accuracy: {} %\".format(100 - np.mean(np.abs(y_prediction_test - y_test)) * 100))\n",
    "    \n",
    "logistic_regression(x_train, y_train, x_test, y_test,learning_rate = 0.01, num_iterations = 150)"
   ]
  },
  {
   "cell_type": "markdown",
   "metadata": {},
   "source": [
    "- We learn logic behind simple neural network(logistic regression) and how to implement it.\n",
    "- Now that we have learned logic, we can use sklearn library which is easier than implementing all steps with hand for logistic regression."
   ]
  },
  {
   "cell_type": "markdown",
   "metadata": {},
   "source": [
    "### <a name=\"3\"></a>Logistic Regression with Sklearn\n"
   ]
  },
  {
   "cell_type": "code",
   "execution_count": 24,
   "metadata": {},
   "outputs": [
    {
     "name": "stdout",
     "output_type": "stream",
     "text": [
      "test accuracy: 0.967741935483871 \n",
      "train accuracy: 1.0 \n"
     ]
    }
   ],
   "source": [
    "from sklearn import linear_model\n",
    "logreg = linear_model.LogisticRegression(random_state = 42,max_iter= 150)\n",
    "print(\"test accuracy: {} \".format(logreg.fit(x_train.T, y_train.T).score(x_test.T, y_test.T)))\n",
    "print(\"train accuracy: {} \".format(logreg.fit(x_train.T, y_train.T).score(x_train.T, y_train.T)))"
   ]
  },
  {
   "cell_type": "markdown",
   "metadata": {},
   "source": [
    "### <a name=\"3\"></a>Summary and Questions in Minds\n"
   ]
  },
  {
   "cell_type": "markdown",
   "metadata": {},
   "source": [
    "What we did at this first part:\n",
    "\n",
    "- Initialize parameters weight and bias\n",
    "- Forward propagation\n",
    "- Loss function\n",
    "- Cost function\n",
    "- Backward propagation (gradient descent)\n",
    "- Prediction with learnt parameters weight and bias\n",
    "- Logistic regression with sklearn"
   ]
  },
  {
   "cell_type": "markdown",
   "metadata": {},
   "source": [
    "## <a name=\"3\"></a>Artificial Neural Network\n",
    "\n"
   ]
  },
  {
   "cell_type": "markdown",
   "metadata": {},
   "source": [
    "- It is also called deep neural network or deep learning.\n",
    "- What is neural network: It is basically taking logistic regression and repeating it at least 2 times.\n",
    "- In logistic regression, there are input and output layers. However, in neural network, there is at least one hidden layer between input and output layer.\n",
    "- What is deep, in order to say \"deep\" how many layer do I need to have: - When I ask this question to my teacher, he said that \"\"Deep\" is a relative term; it of course refers to the \"depth\" of a network, meaning how many hidden layers it has. \"How deep is your swimming pool?\" could be 12 feet or it might be two feet; nevertheless, it still has a depth--it has the quality of \"deepness\". 32 years ago, I used two or three hidden layers. That was the limit for the specialized hardware of the day. Just a few years ago, 20 layers was considered pretty deep. In October, Andrew Ng mentioned 152 layers was (one of?) the biggest commercial networks he knew of. Last week, I talked to someone at a big, famous company who said he was using \"thousands\". So I prefer to just stick with \"How deep?\"\"\n",
    "- Why it is called hidden: Because hidden layer does not see inputs(training set)\n",
    "For example you have input, one hidden and output layers. When someone ask you \"hey my friend how many layers do your neural network have?\" The answer is \"I have 2 layer neural network\". Because while computing layer number input layer is ignored.\n",
    "- Lets see 2 layer neural network:\n",
    "<p><img width=\"600\" height=\"300\" src=\"https://i.ibb.co/7SXwvBJ/9.jpg\"></p>\n",
    "- Step by step we will learn this image.\n",
    "    - As you can see there is one hidden layer between input and output layers. And this hidden layer has 3 nodes. If yoube curious why I choose number of node 3, the answer is there is no reason, I only choose :). Number of node is hyperparameter like learning rate. Therefore we will see hyperparameters at the end of artificial neural network.\n",
    "    - Input and output layers do not change. They are same like logistic regression.\n",
    "    - In image, there is a tanh function that is unknown for you. It is a activation function like sigmoid function. Tanh activation function is better than sigmoid for hidden units bacause mean of its output is closer to zero so it centers the data better for the next layer. Also tanh activation function increase non linearity that cause our model learning better.\n",
    "    - As you can see with purple color there are two parts. Both parts are like logistic regression. The only difference is activation function, inputs and outputs.\n",
    "        - In logistic regression: input => output\n",
    "        - In 2 layer neural network: input => hidden layer => output. You can think that hidden layer is output of part 1 and input of part 2.\n",
    "- Thats all. We will follow the same path like logistic regression for 2 layer neural network."
   ]
  },
  {
   "cell_type": "markdown",
   "metadata": {},
   "source": [
    "### <a name=\"3\"></a>2-Layer Neural Network\n"
   ]
  },
  {
   "cell_type": "markdown",
   "metadata": {},
   "source": [
    "- Size of layers and initializing parameters weights and bias\n",
    "- Forward propagation\n",
    "- Loss function and Cost function\n",
    "- Backward propagation\n",
    "- Update Parameters\n",
    "- Prediction with learnt parameters weight and bias\n",
    "- Create Model"
   ]
  },
  {
   "cell_type": "markdown",
   "metadata": {},
   "source": [
    "### <a name=\"3\"></a>Size of layers and initializing parameters weights and bias\n"
   ]
  },
  {
   "cell_type": "markdown",
   "metadata": {},
   "source": [
    "- For x_train that has 348 sample  x(348) :\n",
    "        z[1](348)=W[1]x(348)+b[1](348)\n",
    "        a[1](348)=tanh(z[1](348))\n",
    "        z[2](348)=W[2]a[1](348)+b[2](348)\n",
    "        y^(348)=a[2](348)=σ(z[2](348))\n",
    " \n",
    "- At logistic regression, we initialize weights 0.01 and bias 0. At this time, we initialize weights randomly. Because if we initialize parameters zero each neuron in the first hidden layer will perform the same comptation. Therefore, even after multiple iterartion of gradiet descent each neuron in the layer will be computing same things as other neurons. Therefore we initialize randomly. Also initial weights will be small. If they are very large initially, this will cause the inputs of the tanh to be very large, thus causing gradients to be close to zero. The optimization algorithm will be slow.\n",
    "- Bias can be zero initially."
   ]
  },
  {
   "cell_type": "code",
   "execution_count": 25,
   "metadata": {},
   "outputs": [],
   "source": [
    "# intialize parameters and layer sizes\n",
    "def initialize_parameters_and_layer_sizes_NN(x_train, y_train):\n",
    "    parameters = {\"weight1\": np.random.randn(3,x_train.shape[0]) * 0.1,\n",
    "                  \"bias1\": np.zeros((3,1)),\n",
    "                  \"weight2\": np.random.randn(y_train.shape[0],3) * 0.1,\n",
    "                  \"bias2\": np.zeros((y_train.shape[0],1))}\n",
    "    return parameters"
   ]
  },
  {
   "cell_type": "markdown",
   "metadata": {},
   "source": [
    "### <a name=\"3\"></a>Forward propagation\n"
   ]
  },
  {
   "cell_type": "markdown",
   "metadata": {},
   "source": [
    "- Forward propagation is almost same with logistic regression.\n",
    "- The only difference is we use tanh function and we make all process twice.\n",
    "- Also numpy has tanh function. So we do not need to implement it."
   ]
  },
  {
   "cell_type": "code",
   "execution_count": 26,
   "metadata": {},
   "outputs": [],
   "source": [
    "def forward_propagation_NN(x_train, parameters):\n",
    "\n",
    "    Z1 = np.dot(parameters[\"weight1\"],x_train) +parameters[\"bias1\"]\n",
    "    A1 = np.tanh(Z1)\n",
    "    Z2 = np.dot(parameters[\"weight2\"],A1) + parameters[\"bias2\"]\n",
    "    A2 = sigmoid(Z2)\n",
    "\n",
    "    cache = {\"Z1\": Z1,\n",
    "             \"A1\": A1,\n",
    "             \"Z2\": Z2,\n",
    "             \"A2\": A2}\n",
    "    \n",
    "    return A2, cache"
   ]
  },
  {
   "cell_type": "markdown",
   "metadata": {},
   "source": [
    "### <a name=\"3\"></a>Loss function and Cost function\n"
   ]
  },
  {
   "cell_type": "markdown",
   "metadata": {},
   "source": [
    "- Loss and cost functions are same with logistic regression\n",
    "- Cross entropy function\n",
    "<p><img width=\"200\" height=\"40\" src=\"https://image.ibb.co/nyR9LU/as.jpg\"></p>"
   ]
  },
  {
   "cell_type": "code",
   "execution_count": 27,
   "metadata": {},
   "outputs": [],
   "source": [
    "# Compute cost\n",
    "def compute_cost_NN(A2, Y, parameters):\n",
    "    logprobs = np.multiply(np.log(A2),Y)\n",
    "    cost = -np.sum(logprobs)/Y.shape[1]\n",
    "    return cost"
   ]
  },
  {
   "cell_type": "markdown",
   "metadata": {},
   "source": [
    "### <a name=\"3\"></a>Backward propagation\n"
   ]
  },
  {
   "cell_type": "markdown",
   "metadata": {},
   "source": [
    "- As you know backward propagation means derivative.\n",
    "- If you want to learn (as I said I cannot explain without talking bc it is little confusing), please watch video in youtube.\n",
    "- However the logic is same, lets write code."
   ]
  },
  {
   "cell_type": "code",
   "execution_count": 28,
   "metadata": {},
   "outputs": [],
   "source": [
    "# Backward Propagation\n",
    "def backward_propagation_NN(parameters, cache, X, Y):\n",
    "\n",
    "    dZ2 = cache[\"A2\"]-Y\n",
    "    dW2 = np.dot(dZ2,cache[\"A1\"].T)/X.shape[1]\n",
    "    db2 = np.sum(dZ2,axis =1,keepdims=True)/X.shape[1]\n",
    "    dZ1 = np.dot(parameters[\"weight2\"].T,dZ2)*(1 - np.power(cache[\"A1\"], 2))\n",
    "    dW1 = np.dot(dZ1,X.T)/X.shape[1]\n",
    "    db1 = np.sum(dZ1,axis =1,keepdims=True)/X.shape[1]\n",
    "    grads = {\"dweight1\": dW1,\n",
    "             \"dbias1\": db1,\n",
    "             \"dweight2\": dW2,\n",
    "             \"dbias2\": db2}\n",
    "    return grads"
   ]
  },
  {
   "cell_type": "markdown",
   "metadata": {},
   "source": [
    "### <a name=\"3\"></a>Update Parameters\n"
   ]
  },
  {
   "cell_type": "markdown",
   "metadata": {},
   "source": [
    "- Updating parameters also same with logistic regression.\n",
    "- We actually do alot of work with logistic regression"
   ]
  },
  {
   "cell_type": "code",
   "execution_count": 29,
   "metadata": {},
   "outputs": [],
   "source": [
    "# update parameters\n",
    "def update_parameters_NN(parameters, grads, learning_rate = 0.01):\n",
    "    parameters = {\"weight1\": parameters[\"weight1\"]-learning_rate*grads[\"dweight1\"],\n",
    "                  \"bias1\": parameters[\"bias1\"]-learning_rate*grads[\"dbias1\"],\n",
    "                  \"weight2\": parameters[\"weight2\"]-learning_rate*grads[\"dweight2\"],\n",
    "                  \"bias2\": parameters[\"bias2\"]-learning_rate*grads[\"dbias2\"]}\n",
    "    \n",
    "    return parameters"
   ]
  },
  {
   "cell_type": "markdown",
   "metadata": {},
   "source": [
    "### <a name=\"3\"></a>Prediction with learnt parameters weight and bias\n"
   ]
  },
  {
   "cell_type": "code",
   "execution_count": 30,
   "metadata": {},
   "outputs": [],
   "source": [
    "# prediction\n",
    "def predict_NN(parameters,x_test):\n",
    "    # x_test is a input for forward propagation\n",
    "    A2, cache = forward_propagation_NN(x_test,parameters)\n",
    "    Y_prediction = np.zeros((1,x_test.shape[1]))\n",
    "    # if z is bigger than 0.5, our prediction is sign one (y_head=1),\n",
    "    # if z is smaller than 0.5, our prediction is sign zero (y_head=0),\n",
    "    for i in range(A2.shape[1]):\n",
    "        if A2[0,i]<= 0.5:\n",
    "            Y_prediction[0,i] = 0\n",
    "        else:\n",
    "            Y_prediction[0,i] = 1\n",
    "\n",
    "    return Y_prediction"
   ]
  },
  {
   "cell_type": "markdown",
   "metadata": {},
   "source": [
    "### <a name=\"3\"></a>Create Model\n"
   ]
  },
  {
   "cell_type": "code",
   "execution_count": 31,
   "metadata": {},
   "outputs": [
    {
     "name": "stdout",
     "output_type": "stream",
     "text": [
      "Cost after iteration 0: 0.289742\n",
      "Cost after iteration 100: 0.300034\n",
      "Cost after iteration 200: 0.251385\n",
      "Cost after iteration 300: 0.200021\n",
      "Cost after iteration 400: 0.159118\n",
      "Cost after iteration 500: 0.129499\n",
      "Cost after iteration 600: 0.108289\n",
      "Cost after iteration 700: 0.092572\n",
      "Cost after iteration 800: 0.080335\n",
      "Cost after iteration 900: 0.070468\n",
      "Cost after iteration 1000: 0.062399\n",
      "Cost after iteration 1100: 0.055766\n",
      "Cost after iteration 1200: 0.050276\n",
      "Cost after iteration 1300: 0.045696\n",
      "Cost after iteration 1400: 0.041845\n",
      "Cost after iteration 1500: 0.038585\n",
      "Cost after iteration 1600: 0.035806\n",
      "Cost after iteration 1700: 0.033418\n",
      "Cost after iteration 1800: 0.031345\n",
      "Cost after iteration 1900: 0.029511\n",
      "Cost after iteration 2000: 0.027843\n",
      "Cost after iteration 2100: 0.026284\n",
      "Cost after iteration 2200: 0.024801\n",
      "Cost after iteration 2300: 0.023389\n",
      "Cost after iteration 2400: 0.022058\n"
     ]
    },
    {
     "data": {
      "image/png": "[encoded data removed]",
      "text/plain": [
       "<Figure size 432x288 with 1 Axes>"
      ]
     },
     "metadata": {
      "needs_background": "light"
     },
     "output_type": "display_data"
    },
    {
     "name": "stdout",
     "output_type": "stream",
     "text": [
      "train accuracy: 99.71264367816092 %\n",
      "test accuracy: 93.54838709677419 %\n"
     ]
    }
   ],
   "source": [
    "# 2 - Layer neural network\n",
    "def two_layer_neural_network(x_train, y_train,x_test,y_test, num_iterations):\n",
    "    cost_list = []\n",
    "    index_list = []\n",
    "    #initialize parameters and layer sizes\n",
    "    parameters = initialize_parameters_and_layer_sizes_NN(x_train, y_train)\n",
    "\n",
    "    for i in range(0, num_iterations):\n",
    "         # forward propagation\n",
    "        A2, cache = forward_propagation_NN(x_train,parameters)\n",
    "        # compute cost\n",
    "        cost = compute_cost_NN(A2, y_train, parameters)\n",
    "         # backward propagation\n",
    "        grads = backward_propagation_NN(parameters, cache, x_train, y_train)\n",
    "         # update parameters\n",
    "        parameters = update_parameters_NN(parameters, grads)\n",
    "        \n",
    "        if i % 100 == 0:\n",
    "            cost_list.append(cost)\n",
    "            index_list.append(i)\n",
    "            print (\"Cost after iteration %i: %f\" %(i, cost))\n",
    "    plt.plot(index_list,cost_list)\n",
    "    plt.xticks(index_list,rotation='vertical')\n",
    "    plt.xlabel(\"Number of Iterarion\")\n",
    "    plt.ylabel(\"Cost\")\n",
    "    plt.show()\n",
    "    \n",
    "    # predict\n",
    "    y_prediction_test = predict_NN(parameters,x_test)\n",
    "    y_prediction_train = predict_NN(parameters,x_train)\n",
    "\n",
    "    # Print train/test Errors\n",
    "    print(\"train accuracy: {} %\".format(100 - np.mean(np.abs(y_prediction_train - y_train)) * 100))\n",
    "    print(\"test accuracy: {} %\".format(100 - np.mean(np.abs(y_prediction_test - y_test)) * 100))\n",
    "    return parameters\n",
    "\n",
    "parameters = two_layer_neural_network(x_train, y_train,x_test,y_test, num_iterations=2500)"
   ]
  },
  {
   "cell_type": "markdown",
   "metadata": {},
   "source": [
    "Up to this point we create 2 layer neural network and learn how to implement\n",
    "\n",
    "- Size of layers and initializing parameters weights and bias\n",
    "- Forward propagation\n",
    "- Loss function and Cost function\n",
    "- Backward propagation\n",
    "- Update Parameters\n",
    "- Prediction with learnt parameters weight and bias\n",
    "- Create Model\n",
    "\n",
    "Now lets learn how to implement L layer neural network with keras."
   ]
  },
  {
   "cell_type": "markdown",
   "metadata": {},
   "source": [
    "### <a name=\"3\"></a>Layer Neural Network\n"
   ]
  },
  {
   "cell_type": "markdown",
   "metadata": {},
   "source": [
    "- What happens if number of hidden layer increase: Earlier layerls can detect simple features.\n",
    "- When model composing simple features together in later layers of neural network that it can learn more and more complex functions. For example, lets look at our sign one.\n",
    "<p><img width=\"500\" height=\"100\" src=\"https://preview.ibb.co/mpD4Qx/10.jpg\"></p>\n",
    "- For example first hidden layer learns edges or basic shapes like line. When number of layer increase, layers start to learn more complex things like convex shapes or characteristic features like forefinger.\n",
    "- Lets create our model\n",
    "    - There are some hyperparameters we need to choose like learning rate, number of iterations, number of hidden layer, number of hidden units, type of activation functions. Woww it is too much :)\n",
    "    - These hyperparameters can be chosen intiutively if you spend a lot of time in deep learning world.\n",
    "    - However, if you do not spend too much time, the best way is to google it but it is not necessary. You need to try hyperparameters to find best one.\n",
    "    - In this tutorial our model will have 2 hidden layer with 8 and4 nodes, respectively. Because when number of hidden layer and node increase, it takes too much time.\n",
    "    - As a activation function we will use relu(first hidden layer), relu(second hidden layer) and sigmoid(output layer) respectively.\n",
    "    - Number of iteration will be 100.\n",
    "- Our way is same with previous parts however as you learn the logic behind deep learning, we can ease our job and use keras library for deeper neural networks.\n",
    "- First lets reshape our x_train, x_test, y_train and y_test."
   ]
  },
  {
   "cell_type": "code",
   "execution_count": 32,
   "metadata": {},
   "outputs": [],
   "source": [
    "# reshaping\n",
    "x_train, x_test, y_train, y_test = x_train.T, x_test.T, y_train.T, y_test.T"
   ]
  },
  {
   "cell_type": "markdown",
   "metadata": {},
   "source": [
    "### <a name=\"3\"></a>Implementing with keras library\n"
   ]
  },
  {
   "cell_type": "markdown",
   "metadata": {},
   "source": [
    "Lets look at some parameters of keras library:\n",
    "\n",
    "- units: output dimensions of node\n",
    "- kernel_initializer: to initialize weights\n",
    "- activation: activation function, we use relu\n",
    "- input_dim: input dimension that is number of pixels in our images (4096 px)\n",
    "- optimizer: we use adam optimizer\n",
    "    - Adam is one of the most effective optimization algorithms for training neural networks.\n",
    "    - Some advantages of Adam is that relatively low memory requirements and usually works well even with little tuning of hyperparameters\n",
    "- loss: Cost function is same. By the way the name of the cost function is cross-entropy cost function that we use previous parts.\n",
    "- metrics: it is accuracy.\n",
    "- cross_val_score: use cross validation. If you do not know cross validation please chech it from my machine learning tutorial. https://www.kaggle.com/kanncaa1/machine-learning-tutorial-for-beginners\n",
    "- epochs: number of iteration"
   ]
  },
  {
   "cell_type": "code",
   "execution_count": 33,
   "metadata": {},
   "outputs": [
    {
     "name": "stderr",
     "output_type": "stream",
     "text": [
      "Using TensorFlow backend.\n"
     ]
    },
    {
     "name": "stdout",
     "output_type": "stream",
     "text": [
      "WARNING:tensorflow:From C:\\Users\\ankur\\Anaconda3\\lib\\site-packages\\tensorflow\\python\\framework\\op_def_library.py:263: colocate_with (from tensorflow.python.framework.ops) is deprecated and will be removed in a future version.\n",
      "Instructions for updating:\n",
      "Colocations handled automatically by placer.\n",
      "WARNING:tensorflow:From C:\\Users\\ankur\\Anaconda3\\lib\\site-packages\\tensorflow\\python\\ops\\math_ops.py:3066: to_int32 (from tensorflow.python.ops.math_ops) is deprecated and will be removed in a future version.\n",
      "Instructions for updating:\n",
      "Use tf.cast instead.\n",
      "Epoch 1/10\n",
      "232/232 [==============================] - 1s 5ms/step - loss: 0.6927 - acc: 0.5086\n",
      "Epoch 2/10\n",
      "232/232 [==============================] - 0s 136us/step - loss: 0.6910 - acc: 0.5431\n",
      "Epoch 3/10\n",
      "232/232 [==============================] - 0s 121us/step - loss: 0.6890 - acc: 0.5431\n",
      "Epoch 4/10\n",
      "232/232 [==============================] - 0s 118us/step - loss: 0.6869 - acc: 0.5431\n",
      "Epoch 5/10\n",
      "232/232 [==============================] - 0s 108us/step - loss: 0.6859 - acc: 0.5431\n",
      "Epoch 6/10\n",
      "232/232 [==============================] - 0s 90us/step - loss: 0.6850 - acc: 0.5431\n",
      "Epoch 7/10\n",
      "232/232 [==============================] - 0s 105us/step - loss: 0.6833 - acc: 0.5431\n",
      "Epoch 8/10\n",
      "232/232 [==============================] - 0s 89us/step - loss: 0.6816 - acc: 0.5431\n",
      "Epoch 9/10\n",
      "232/232 [==============================] - 0s 94us/step - loss: 0.6796 - acc: 0.5431\n",
      "Epoch 10/10\n",
      "232/232 [==============================] - 0s 100us/step - loss: 0.6763 - acc: 0.5431\n",
      "116/116 [==============================] - 0s 1ms/step\n",
      "Epoch 1/10\n",
      "232/232 [==============================] - 1s 5ms/step - loss: 0.6934 - acc: 0.5302\n",
      "Epoch 2/10\n",
      "232/232 [==============================] - 0s 105us/step - loss: 0.6931 - acc: 0.5560\n",
      "Epoch 3/10\n",
      "232/232 [==============================] - 0s 94us/step - loss: 0.6931 - acc: 0.5216\n",
      "Epoch 4/10\n",
      "232/232 [==============================] - 0s 88us/step - loss: 0.6930 - acc: 0.5216\n",
      "Epoch 5/10\n",
      "232/232 [==============================] - 0s 104us/step - loss: 0.6930 - acc: 0.5216\n",
      "Epoch 6/10\n",
      "232/232 [==============================] - 0s 100us/step - loss: 0.6929 - acc: 0.5216\n",
      "Epoch 7/10\n",
      "232/232 [==============================] - 0s 87us/step - loss: 0.6929 - acc: 0.5216\n",
      "Epoch 8/10\n",
      "232/232 [==============================] - 0s 88us/step - loss: 0.6929 - acc: 0.5216\n",
      "Epoch 9/10\n",
      "232/232 [==============================] - 0s 76us/step - loss: 0.6928 - acc: 0.5216\n",
      "Epoch 10/10\n",
      "232/232 [==============================] - 0s 87us/step - loss: 0.6928 - acc: 0.5216\n",
      "116/116 [==============================] - 0s 2ms/step\n",
      "Epoch 1/10\n",
      "232/232 [==============================] - 1s 5ms/step - loss: 0.6933 - acc: 0.5043\n",
      "Epoch 2/10\n",
      "232/232 [==============================] - 0s 98us/step - loss: 0.6932 - acc: 0.5043\n",
      "Epoch 3/10\n",
      "232/232 [==============================] - 0s 60us/step - loss: 0.6931 - acc: 0.5043\n",
      "Epoch 4/10\n",
      "232/232 [==============================] - 0s 113us/step - loss: 0.6931 - acc: 0.5043\n",
      "Epoch 5/10\n",
      "232/232 [==============================] - 0s 89us/step - loss: 0.6931 - acc: 0.5043\n",
      "Epoch 6/10\n",
      "232/232 [==============================] - 0s 71us/step - loss: 0.6931 - acc: 0.5043\n",
      "Epoch 7/10\n",
      "232/232 [==============================] - 0s 99us/step - loss: 0.6930 - acc: 0.5043\n",
      "Epoch 8/10\n",
      "232/232 [==============================] - 0s 109us/step - loss: 0.6929 - acc: 0.5043\n",
      "Epoch 9/10\n",
      "232/232 [==============================] - 0s 105us/step - loss: 0.6927 - acc: 0.5043\n",
      "Epoch 10/10\n",
      "232/232 [==============================] - 0s 105us/step - loss: 0.6924 - acc: 0.5043\n",
      "116/116 [==============================] - 0s 2ms/step\n",
      "Accuracy mean: 0.4482758637817426\n",
      "Accuracy variance: 0.018622818416017862\n"
     ]
    }
   ],
   "source": [
    "# Evaluating the ANN\n",
    "from keras.wrappers.scikit_learn import KerasClassifier\n",
    "from sklearn.model_selection import cross_val_score\n",
    "from keras.models import Sequential # initialize neural network library\n",
    "from keras.layers import Dense # build our layers library\n",
    "\n",
    "def build_classifier():\n",
    "    classifier = Sequential() # initialize neural network\n",
    "    classifier.add(Dense(units = 8, kernel_initializer = 'uniform', activation = 'relu', input_dim = x_train.shape[1]))\n",
    "    classifier.add(Dense(units = 4, kernel_initializer = 'uniform', activation = 'relu'))\n",
    "    classifier.add(Dense(units = 1, kernel_initializer = 'uniform', activation = 'sigmoid'))\n",
    "    classifier.compile(optimizer = 'adam', loss = 'binary_crossentropy', metrics = ['accuracy'])\n",
    "    return classifier\n",
    "classifier = KerasClassifier(build_fn = build_classifier, epochs = 10)\n",
    "accuracies = cross_val_score(estimator = classifier, X = x_train, y = y_train, cv = 3)\n",
    "mean = accuracies.mean()\n",
    "variance = accuracies.std()\n",
    "print(\"Accuracy mean: \"+ str(mean))\n",
    "print(\"Accuracy variance: \"+ str(variance))"
   ]
  },
  {
   "cell_type": "markdown",
   "metadata": {},
   "source": [
    "\n",
    "### Artificial Neural Network with Pytorch Library\n",
    "- Pytorch is one of the frame works like keras.\n",
    "- It eases implementing and constructing deep learning blocks.\n",
    "- Artificial Neural Network: https://www.kaggle.com/kanncaa1/pytorch-tutorial-for-deep-learning-lovers\n"
   ]
  },
  {
   "cell_type": "markdown",
   "metadata": {},
   "source": [
    "\n",
    "### Convolutional Neural Network with Pytorch Library\n",
    "- Convolutional Neural Network: https://www.kaggle.com/kanncaa1/pytorch-tutorial-for-deep-learning-lovers\n"
   ]
  },
  {
   "cell_type": "markdown",
   "metadata": {},
   "source": [
    "\n",
    "### Recurrent Neural Network with Pytorch Library\n",
    "- Recurrent Neural Network: https://www.kaggle.com/kanncaa1/recurrent-neural-network-with-pytorch"
   ]
  },
  {
   "cell_type": "markdown",
   "metadata": {},
   "source": [
    "## CONCLUSION"
   ]
  }
 ],
 "metadata": {
  "kernelspec": {
   "display_name": "Python 3",
   "language": "python",
   "name": "python3"
  },
  "language_info": {
   "codemirror_mode": {
    "name": "ipython",
    "version": 3
   },
   "file_extension": ".py",
   "mimetype": "text/x-python",
   "name": "python",
   "nbconvert_exporter": "python",
   "pygments_lexer": "ipython3",
   "version": "3.7.3"
  }
 },
 "nbformat": 4,
 "nbformat_minor": 2
}
